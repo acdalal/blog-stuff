{
 "cells": [
  {
   "cell_type": "markdown",
   "metadata": {},
   "source": [
    "# Interactive Data Visualization by Example"
   ]
  },
  {
   "cell_type": "raw",
   "metadata": {},
   "source": [
    "outline\n",
    "    goals\n",
    "        1. well-designed data visualization\n",
    "        2. possibilities of interactive data visualization\n",
    "        3. template of the same\n",
    "    approach\n",
    "        recreate original graph\n",
    "        update for readability (or redesign if necessary)\n",
    "        add interactivity\n",
    "    fundamental issues\n",
    "        Bechdel dimension\n",
    "    1. average bechdel test over time\n",
    "        1.5 trendline of Bechdel test over time \n",
    "    2. makeup of test results over time\n",
    "    3. distribution of budgets by Bechdel dimension\n",
    "    4. profit and ROI by Bechdel dimension\n",
    "        4.5 metascore and IMDB rating"
   ]
  },
  {
   "cell_type": "markdown",
   "metadata": {},
   "source": [
    "## 1. Average Bechdel Score over Time"
   ]
  },
  {
   "cell_type": "markdown",
   "metadata": {},
   "source": [
    "![Original Average Bechdel Test over Time Plot](original-plots/1a.png)"
   ]
  },
  {
   "cell_type": "markdown",
   "metadata": {},
   "source": [
    "<table>\n",
    "    <tr>\n",
    "        <td>\n",
    "            ![Original Average Bechdel Test over Time Plot](original-plots/1b.png)\n",
    "        </td>\n",
    "        <td>\n",
    "            ![Original Average Bechdel Test over Time Plot](original-plots/1c.png)\n",
    "        </td>\n",
    "    </tr>\n",
    "</table>"
   ]
  },
  {
   "cell_type": "markdown",
   "metadata": {},
   "source": [
    "## 2. Bechdel Score Distribution over Time"
   ]
  },
  {
   "cell_type": "markdown",
   "metadata": {},
   "source": [
    "![](original-plots/2.png)"
   ]
  },
  {
   "cell_type": "markdown",
   "metadata": {},
   "source": [
    "## 3. Film Budget by Bechdel Score"
   ]
  },
  {
   "cell_type": "markdown",
   "metadata": {},
   "source": [
    "![](original-plots/3.png)"
   ]
  },
  {
   "cell_type": "markdown",
   "metadata": {},
   "source": [
    "## 4. Other Metrics by Bechdel Score"
   ]
  },
  {
   "cell_type": "markdown",
   "metadata": {},
   "source": [
    "<table>\n",
    "    <tr>\n",
    "        <td>\n",
    "            ![Original Average Bechdel Test over Time Plot](original-plots/4a.png)\n",
    "        </td>\n",
    "        <td>\n",
    "            ![Original Average Bechdel Test over Time Plot](original-plots/4b.png)\n",
    "        </td>\n",
    "    </tr>\n",
    "</table>"
   ]
  },
  {
   "cell_type": "markdown",
   "metadata": {},
   "source": [
    "<table>\n",
    "    <tr>\n",
    "        <td>\n",
    "            ![Original Average Bechdel Test over Time Plot](original-plots/4c.png)\n",
    "        </td>\n",
    "        <td>\n",
    "            ![Original Average Bechdel Test over Time Plot](original-plots/4d.png)\n",
    "        </td>\n",
    "    </tr>\n",
    "</table>"
   ]
  }
 ],
 "metadata": {
  "kernelspec": {
   "display_name": "Python 3",
   "language": "python",
   "name": "python3"
  },
  "language_info": {
   "codemirror_mode": {
    "name": "ipython",
    "version": 3
   },
   "file_extension": ".py",
   "mimetype": "text/x-python",
   "name": "python",
   "nbconvert_exporter": "python",
   "pygments_lexer": "ipython3",
   "version": "3.6.5"
  }
 },
 "nbformat": 4,
 "nbformat_minor": 2
}
